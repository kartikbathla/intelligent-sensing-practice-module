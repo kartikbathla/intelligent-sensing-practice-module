{
 "cells": [
  {
   "cell_type": "code",
   "execution_count": 1,
   "metadata": {},
   "outputs": [
    {
     "data": {
      "application/vnd.jupyter.widget-view+json": {
       "model_id": "37200329d54942a18531a415c58cc8be",
       "version_major": 2,
       "version_minor": 0
      },
      "text/plain": [
       "README.md:   0%|          | 0.00/7.37k [00:00<?, ?B/s]"
      ]
     },
     "metadata": {},
     "output_type": "display_data"
    },
    {
     "data": {
      "application/vnd.jupyter.widget-view+json": {
       "model_id": "81b3e3cda7f94857868d509a4216ffa7",
       "version_major": 2,
       "version_minor": 0
      },
      "text/plain": [
       "train-00000-of-00006.parquet:   0%|          | 0.00/481M [00:00<?, ?B/s]"
      ]
     },
     "metadata": {},
     "output_type": "display_data"
    },
    {
     "data": {
      "application/vnd.jupyter.widget-view+json": {
       "model_id": "1a463093d4bd4003b38bbd0b5bd680cd",
       "version_major": 2,
       "version_minor": 0
      },
      "text/plain": [
       "train-00001-of-00006.parquet:   0%|          | 0.00/485M [00:00<?, ?B/s]"
      ]
     },
     "metadata": {},
     "output_type": "display_data"
    },
    {
     "data": {
      "application/vnd.jupyter.widget-view+json": {
       "model_id": "5f9e36e0fa804a659a134bcfbfcba88a",
       "version_major": 2,
       "version_minor": 0
      },
      "text/plain": [
       "train-00002-of-00006.parquet:   0%|          | 0.00/482M [00:00<?, ?B/s]"
      ]
     },
     "metadata": {},
     "output_type": "display_data"
    },
    {
     "data": {
      "application/vnd.jupyter.widget-view+json": {
       "model_id": "78e54353d7f14da8ab4eccbf82a64483",
       "version_major": 2,
       "version_minor": 0
      },
      "text/plain": [
       "train-00003-of-00006.parquet:   0%|          | 0.00/483M [00:00<?, ?B/s]"
      ]
     },
     "metadata": {},
     "output_type": "display_data"
    },
    {
     "data": {
      "application/vnd.jupyter.widget-view+json": {
       "model_id": "09a3fa38897d4d2bbef97f8e4e2ab994",
       "version_major": 2,
       "version_minor": 0
      },
      "text/plain": [
       "train-00004-of-00006.parquet:   0%|          | 0.00/480M [00:00<?, ?B/s]"
      ]
     },
     "metadata": {},
     "output_type": "display_data"
    },
    {
     "data": {
      "application/vnd.jupyter.widget-view+json": {
       "model_id": "c6f09973f0dc445890cbf331f251faf6",
       "version_major": 2,
       "version_minor": 0
      },
      "text/plain": [
       "train-00005-of-00006.parquet:   0%|          | 0.00/483M [00:00<?, ?B/s]"
      ]
     },
     "metadata": {},
     "output_type": "display_data"
    },
    {
     "data": {
      "application/vnd.jupyter.widget-view+json": {
       "model_id": "52427162bc31423eb3199a393ec275be",
       "version_major": 2,
       "version_minor": 0
      },
      "text/plain": [
       "val-00000-of-00001.parquet:   0%|          | 0.00/390M [00:00<?, ?B/s]"
      ]
     },
     "metadata": {},
     "output_type": "display_data"
    },
    {
     "data": {
      "application/vnd.jupyter.widget-view+json": {
       "model_id": "99679a34df594662b522db46b3589c09",
       "version_major": 2,
       "version_minor": 0
      },
      "text/plain": [
       "Generating train split:   0%|          | 0/29537 [00:00<?, ? examples/s]"
      ]
     },
     "metadata": {},
     "output_type": "display_data"
    },
    {
     "data": {
      "application/vnd.jupyter.widget-view+json": {
       "model_id": "2c1533f73363407d806a32dd0121f168",
       "version_major": 2,
       "version_minor": 0
      },
      "text/plain": [
       "Generating val split:   0%|          | 0/4099 [00:00<?, ? examples/s]"
      ]
     },
     "metadata": {},
     "output_type": "display_data"
    }
   ],
   "source": [
    "from datasets import load_dataset\n",
    "\n",
    "dataset = load_dataset('pyronear/pyro-sdis')\n",
    "\n"
   ]
  },
  {
   "cell_type": "code",
   "execution_count": 7,
   "metadata": {},
   "outputs": [
    {
     "name": "stdout",
     "output_type": "stream",
     "text": [
      "DatasetDict({\n",
      "    train: Dataset({\n",
      "        features: ['image', 'annotations', 'image_name', 'partner', 'camera', 'date'],\n",
      "        num_rows: 29537\n",
      "    })\n",
      "    val: Dataset({\n",
      "        features: ['image', 'annotations', 'image_name', 'partner', 'camera', 'date'],\n",
      "        num_rows: 4099\n",
      "    })\n",
      "})\n"
     ]
    }
   ],
   "source": [
    "print(dataset)\n"
   ]
  },
  {
   "cell_type": "code",
   "execution_count": 3,
   "metadata": {},
   "outputs": [],
   "source": [
    "import os\n",
    "from datasets import load_dataset\n",
    "from PIL import Image\n",
    "\n",
    "# Load dataset\n",
    "dataset = load_dataset('pyronear/pyro-sdis')\n",
    "\n",
    "# Define where to save in current directory\n",
    "base_dir = os.path.join(os.getcwd(), '../data/pyronear/pyro_sdis_yolo')\n",
    "for split in ['train', 'validation']:\n",
    "    os.makedirs(os.path.join(base_dir, 'images', split), exist_ok=True)\n",
    "    os.makedirs(os.path.join(base_dir, 'labels', split), exist_ok=True)\n",
    "\n",
    "def save_yolo_format(dataset_split, split_name):\n",
    "    for i, sample in enumerate(dataset_split):\n",
    "        img_path = os.path.join(base_dir, 'images', split_name, f\"{i:06}.jpg\")\n",
    "        sample['image'].save(img_path)\n",
    "\n",
    "        label_path = os.path.join(base_dir, 'labels', split_name, f\"{i:06}.txt\")\n",
    "        with open(label_path, 'w') as f:\n",
    "            for line in sample['annotations'].strip().split('\\n'):\n",
    "                parts = line.strip().split()\n",
    "                if len(parts) == 5:\n",
    "                    parts[0] = '0'  # force class ID to 0\n",
    "                    f.write(' '.join(parts) + '\\n')\n",
    "\n",
    "\n",
    "\n",
    "\n",
    "# Process both splits\n",
    "save_yolo_format(dataset['train'], 'train')\n",
    "\n"
   ]
  },
  {
   "cell_type": "code",
   "execution_count": 4,
   "metadata": {},
   "outputs": [],
   "source": [
    "save_yolo_format(dataset['val'], 'validation')"
   ]
  },
  {
   "cell_type": "code",
   "execution_count": 2,
   "metadata": {},
   "outputs": [
    {
     "data": {
      "application/vnd.jupyter.widget-view+json": {
       "model_id": "70b0c68cf79d403c8a56acf372370d16",
       "version_major": 2,
       "version_minor": 0
      },
      "text/plain": [
       "data.yaml:   0%|          | 0.00/187 [00:00<?, ?B/s]"
      ]
     },
     "metadata": {},
     "output_type": "display_data"
    },
    {
     "name": "stdout",
     "output_type": "stream",
     "text": [
      "data.yaml downloaded to: data.yaml\n"
     ]
    }
   ],
   "source": [
    "from huggingface_hub import hf_hub_download\n",
    " \n",
    "# Correctly set repo_id and repo_type\n",
    "repo_id = \"pyronear/pyro-sdis\"\n",
    "filename = \"data.yaml\"\n",
    "\n",
    "# Download data.yaml to the current directory\n",
    "yaml_path = hf_hub_download(repo_id=repo_id, filename=filename, repo_type=\"dataset\", local_dir=\".\")\n",
    "print(f\"data.yaml downloaded to: {yaml_path}\")\n"
   ]
  }
 ],
 "metadata": {
  "kernelspec": {
   "display_name": "Python 3",
   "language": "python",
   "name": "python3"
  },
  "language_info": {
   "codemirror_mode": {
    "name": "ipython",
    "version": 3
   },
   "file_extension": ".py",
   "mimetype": "text/x-python",
   "name": "python",
   "nbconvert_exporter": "python",
   "pygments_lexer": "ipython3",
   "version": "3.10.6"
  }
 },
 "nbformat": 4,
 "nbformat_minor": 2
}
