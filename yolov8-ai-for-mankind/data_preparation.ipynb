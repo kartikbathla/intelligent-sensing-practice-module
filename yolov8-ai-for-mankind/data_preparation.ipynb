{
 "cells": [
  {
   "cell_type": "code",
   "execution_count": 3,
   "metadata": {},
   "outputs": [
    {
     "name": "stderr",
     "output_type": "stream",
     "text": [
      "100%|██████████| 2191/2191 [00:00<00:00, 3704.28it/s]\n"
     ]
    }
   ],
   "source": [
    "import os\n",
    "import xml.etree.ElementTree as ET\n",
    "from PIL import Image\n",
    "from tqdm import tqdm\n",
    "\n",
    "xml_path = \"../datasets/ai_for_mankind_hpwren/day_time_wildfire_v2/annotations/xmls\"\n",
    "img_path = \"../datasets/ai_for_mankind_hpwren/day_time_wildfire_v2/images\"\n",
    "yolo_labels_path = \"../datasets/ai_for_mankind_hpwren/day_time_wildfire_v2/labels\"\n",
    "\n",
    "os.makedirs(yolo_labels_path, exist_ok=True)\n",
    "\n",
    "classes = {'smoke': 0}  # Class mapping for YOLO (class_id starts from 0)\n",
    "\n",
    "for xml_file in tqdm(os.listdir(xml_path)):\n",
    "    if not xml_file.endswith(\".xml\"):\n",
    "        continue\n",
    "\n",
    "    tree = ET.parse(os.path.join(xml_path, xml_file))\n",
    "    root = tree.getroot()\n",
    "\n",
    "    img_file = root.find('filename').text\n",
    "    img_full_path = os.path.join(img_path, img_file)\n",
    "    \n",
    "    if not os.path.exists(img_full_path):\n",
    "        continue\n",
    "\n",
    "    img = Image.open(img_full_path)\n",
    "    width, height = img.size\n",
    "\n",
    "    yolo_file = os.path.join(yolo_labels_path, img_file.replace('.jpeg', '.txt'))\n",
    "    with open(yolo_file, 'w') as f:\n",
    "        for obj in root.findall('object'):\n",
    "            cls_name = obj.find('name').text\n",
    "            cls_id = classes[cls_name]\n",
    "\n",
    "            xmlbox = obj.find('bndbox')\n",
    "            xmin = int(float(xmlbox.find('xmin').text))\n",
    "            xmax = int(float(xmlbox.find('xmax').text))\n",
    "            ymin = int(float(xmlbox.find('ymin').text))\n",
    "            ymax = int(float(xmlbox.find('ymax').text))\n",
    "\n",
    "\n",
    "            x_center = (xmin + xmax) / 2.0 / width\n",
    "            y_center = (ymin + ymax) / 2.0 / height\n",
    "            box_width = (xmax - xmin) / width\n",
    "            box_height = (ymax - ymin) / height\n",
    "\n",
    "            f.write(f\"{cls_id} {x_center} {y_center} {box_width} {box_height}\\n\")\n"
   ]
  },
  {
   "cell_type": "code",
   "execution_count": 9,
   "metadata": {},
   "outputs": [],
   "source": [
    "import shutil\n",
    "import random\n",
    "import os\n",
    "\n",
    "image_dir = \"../datasets/ai_for_mankind_hpwren/day_time_wildfire_v2/images\"\n",
    "label_dir = \"../datasets/ai_for_mankind_hpwren/day_time_wildfire_v2/labels\"\n",
    "yolo_root = \"../datasets/ai_hpwren_yolo\"\n",
    "\n",
    "os.makedirs(f\"{yolo_root}/images/train\", exist_ok=True)\n",
    "os.makedirs(f\"{yolo_root}/images/val\", exist_ok=True)\n",
    "os.makedirs(f\"{yolo_root}/labels/train\", exist_ok=True)\n",
    "os.makedirs(f\"{yolo_root}/labels/val\", exist_ok=True)\n",
    "\n",
    "files = [f for f in os.listdir(label_dir) if f.endswith('.txt')]\n",
    "random.shuffle(files)\n",
    "\n",
    "split_idx = int(len(files) * 0.8)\n",
    "train_files, val_files = files[:split_idx], files[split_idx:]\n",
    "\n",
    "# Copy files\n",
    "for file_set, split in zip([train_files, val_files], ['train', 'val']):\n",
    "    for file in file_set:\n",
    "        shutil.copy(os.path.join(image_dir, file.replace('.txt', '.jpeg')), f\"{yolo_root}/images/{split}/\")\n",
    "        shutil.copy(os.path.join(label_dir, file), f\"{yolo_root}/labels/{split}/\")\n"
   ]
  }
 ],
 "metadata": {
  "kernelspec": {
   "display_name": "Python 3",
   "language": "python",
   "name": "python3"
  },
  "language_info": {
   "codemirror_mode": {
    "name": "ipython",
    "version": 3
   },
   "file_extension": ".py",
   "mimetype": "text/x-python",
   "name": "python",
   "nbconvert_exporter": "python",
   "pygments_lexer": "ipython3",
   "version": "3.10.6"
  }
 },
 "nbformat": 4,
 "nbformat_minor": 2
}
